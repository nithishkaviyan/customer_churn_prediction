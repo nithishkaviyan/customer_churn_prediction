{
 "cells": [
  {
   "cell_type": "code",
   "execution_count": 1,
   "id": "critical-beaver",
   "metadata": {},
   "outputs": [],
   "source": [
    "## Create Spark Session\n",
    "from pyspark.sql import SparkSession\n",
    "spark = SparkSession.builder.appName(\"Dataset_Prep\").getOrCreate()"
   ]
  },
  {
   "cell_type": "code",
   "execution_count": 2,
   "id": "dressed-commonwealth",
   "metadata": {},
   "outputs": [],
   "source": [
    "from pathlib import Path\n",
    "\n",
    "from pyspark.sql.types import *\n",
    "from pyspark.sql.functions import *"
   ]
  },
  {
   "cell_type": "code",
   "execution_count": 3,
   "id": "affected-retreat",
   "metadata": {},
   "outputs": [],
   "source": [
    "data_folder = Path.cwd().parents[0].joinpath('data')"
   ]
  },
  {
   "cell_type": "code",
   "execution_count": 4,
   "id": "latin-growing",
   "metadata": {},
   "outputs": [],
   "source": [
    "## Read members data\n",
    "members_df = spark.read.format(\"csv\") \\\n",
    "            .option(\"inferSchema\", \"False\") \\\n",
    "            .option(\"header\", \"True\") \\\n",
    "            .option(\"sep\", \",\") \\\n",
    "            .load(str(data_folder.joinpath('members_v3.csv')))"
   ]
  },
  {
   "cell_type": "code",
   "execution_count": 5,
   "id": "packed-collar",
   "metadata": {},
   "outputs": [
    {
     "name": "stdout",
     "output_type": "stream",
     "text": [
      "root\n",
      " |-- msno: string (nullable = true)\n",
      " |-- city: string (nullable = true)\n",
      " |-- bd: string (nullable = true)\n",
      " |-- gender: string (nullable = true)\n",
      " |-- registered_via: string (nullable = true)\n",
      " |-- registration_init_time: string (nullable = true)\n",
      "\n"
     ]
    }
   ],
   "source": [
    "members_df.printSchema()"
   ]
  },
  {
   "cell_type": "code",
   "execution_count": 6,
   "id": "responsible-western",
   "metadata": {},
   "outputs": [
    {
     "name": "stdout",
     "output_type": "stream",
     "text": [
      "+--------------------+----+---+------+--------------+----------------------+\n",
      "|                msno|city| bd|gender|registered_via|registration_init_time|\n",
      "+--------------------+----+---+------+--------------+----------------------+\n",
      "|Rb9UwLQTrxzBVwCB6...|   1|  0|  null|            11|              20110911|\n",
      "|+tJonkh+O1CA796Fm...|   1|  0|  null|             7|              20110914|\n",
      "|cV358ssn7a0f7jZOw...|   1|  0|  null|            11|              20110915|\n",
      "|9bzDeJP6sQodK73K5...|   1|  0|  null|            11|              20110915|\n",
      "|WFLY3s7z4EZsieHCt...|   6| 32|female|             9|              20110915|\n",
      "+--------------------+----+---+------+--------------+----------------------+\n",
      "only showing top 5 rows\n",
      "\n"
     ]
    }
   ],
   "source": [
    "members_df.show(5)"
   ]
  },
  {
   "cell_type": "code",
   "execution_count": 7,
   "id": "given-father",
   "metadata": {},
   "outputs": [],
   "source": [
    "## Print number of null values in each column\n",
    "#{col:(members_df.filter(members_df[col].isNull() | isnan(members_df[col]))).count() for col in members_df.columns}"
   ]
  },
  {
   "cell_type": "code",
   "execution_count": 8,
   "id": "affecting-kelly",
   "metadata": {},
   "outputs": [],
   "source": [
    "## Read transactions data\n",
    "transactions_df = spark.read.format(\"csv\") \\\n",
    "                  .option(\"inferSchema\", \"False\") \\\n",
    "                  .option(\"header\", \"True\") \\\n",
    "                  .option(\"sep\", \",\") \\\n",
    "                  .load(str(data_folder.joinpath('transactions.csv')))"
   ]
  },
  {
   "cell_type": "code",
   "execution_count": 9,
   "id": "referenced-guide",
   "metadata": {},
   "outputs": [
    {
     "name": "stdout",
     "output_type": "stream",
     "text": [
      "root\n",
      " |-- msno: string (nullable = true)\n",
      " |-- payment_method_id: string (nullable = true)\n",
      " |-- payment_plan_days: string (nullable = true)\n",
      " |-- plan_list_price: string (nullable = true)\n",
      " |-- actual_amount_paid: string (nullable = true)\n",
      " |-- is_auto_renew: string (nullable = true)\n",
      " |-- transaction_date: string (nullable = true)\n",
      " |-- membership_expire_date: string (nullable = true)\n",
      " |-- is_cancel: string (nullable = true)\n",
      "\n"
     ]
    }
   ],
   "source": [
    "transactions_df.printSchema()"
   ]
  },
  {
   "cell_type": "code",
   "execution_count": 10,
   "id": "gentle-stereo",
   "metadata": {},
   "outputs": [
    {
     "name": "stdout",
     "output_type": "stream",
     "text": [
      "+--------------------+-----------------+-----------------+---------------+------------------+-------------+----------------+----------------------+---------+\n",
      "|                msno|payment_method_id|payment_plan_days|plan_list_price|actual_amount_paid|is_auto_renew|transaction_date|membership_expire_date|is_cancel|\n",
      "+--------------------+-----------------+-----------------+---------------+------------------+-------------+----------------+----------------------+---------+\n",
      "|YyO+tlZtAXYXoZhNr...|               41|               30|            129|               129|            1|        20150930|              20151101|        0|\n",
      "|AZtu6Wl0gPojrEQYB...|               41|               30|            149|               149|            1|        20150930|              20151031|        0|\n",
      "|UkDFI97Qb6+s2LWci...|               41|               30|            129|               129|            1|        20150930|              20160427|        0|\n",
      "|M1C56ijxozNaGD0t2...|               39|               30|            149|               149|            1|        20150930|              20151128|        0|\n",
      "|yvj6zyBUaqdbUQSrK...|               39|               30|            149|               149|            1|        20150930|              20151121|        0|\n",
      "+--------------------+-----------------+-----------------+---------------+------------------+-------------+----------------+----------------------+---------+\n",
      "only showing top 5 rows\n",
      "\n"
     ]
    }
   ],
   "source": [
    "transactions_df.show(5)"
   ]
  },
  {
   "cell_type": "code",
   "execution_count": 11,
   "id": "novel-accuracy",
   "metadata": {},
   "outputs": [],
   "source": [
    "## Print number of null values in each column\n",
    "#{col:(transactions_df.filter(transactions_df[col].isNull() | isnan(transactions_df[col]))).count() for col in transactions_df.columns}"
   ]
  },
  {
   "cell_type": "code",
   "execution_count": 12,
   "id": "loaded-painting",
   "metadata": {},
   "outputs": [],
   "source": [
    "## Read user logs data\n",
    "user_logs_df = spark.read.format(\"csv\") \\\n",
    "               .option(\"inferSchema\", \"False\") \\\n",
    "               .option(\"header\", \"True\") \\\n",
    "               .option(\"sep\", \",\") \\\n",
    "               .load(str(data_folder.joinpath('user_logs.csv')))"
   ]
  },
  {
   "cell_type": "code",
   "execution_count": 13,
   "id": "enhanced-present",
   "metadata": {},
   "outputs": [
    {
     "name": "stdout",
     "output_type": "stream",
     "text": [
      "root\n",
      " |-- msno: string (nullable = true)\n",
      " |-- date: string (nullable = true)\n",
      " |-- num_25: string (nullable = true)\n",
      " |-- num_50: string (nullable = true)\n",
      " |-- num_75: string (nullable = true)\n",
      " |-- num_985: string (nullable = true)\n",
      " |-- num_100: string (nullable = true)\n",
      " |-- num_unq: string (nullable = true)\n",
      " |-- total_secs: string (nullable = true)\n",
      "\n"
     ]
    }
   ],
   "source": [
    "user_logs_df.printSchema()"
   ]
  },
  {
   "cell_type": "code",
   "execution_count": 14,
   "id": "sophisticated-scroll",
   "metadata": {},
   "outputs": [
    {
     "name": "stdout",
     "output_type": "stream",
     "text": [
      "+--------------------+--------+------+------+------+-------+-------+-------+----------+\n",
      "|                msno|    date|num_25|num_50|num_75|num_985|num_100|num_unq|total_secs|\n",
      "+--------------------+--------+------+------+------+-------+-------+-------+----------+\n",
      "|rxIP2f2aN0rYNp+to...|20150513|     0|     0|     0|      0|      1|      1|  280.3350|\n",
      "|rxIP2f2aN0rYNp+to...|20150709|     9|     1|     0|      0|      7|     11| 1658.9480|\n",
      "|yxiEWwE9VR5utpUec...|20150105|     3|     3|     0|      0|     68|     36|17364.9560|\n",
      "|yxiEWwE9VR5utpUec...|20150306|     1|     0|     1|      1|     97|     27|24667.3170|\n",
      "|yxiEWwE9VR5utpUec...|20150501|     3|     0|     0|      0|     38|     38| 9649.0290|\n",
      "+--------------------+--------+------+------+------+-------+-------+-------+----------+\n",
      "only showing top 5 rows\n",
      "\n"
     ]
    }
   ],
   "source": [
    "user_logs_df.show(5)"
   ]
  },
  {
   "cell_type": "code",
   "execution_count": 15,
   "id": "restricted-italian",
   "metadata": {},
   "outputs": [],
   "source": [
    "## Print number of null values in each column\n",
    "#{user_logs_df.filter(user_logs_df[col].isNull() | isnan(user_logs_df[col])).count() for col in user_logs_df.columns}"
   ]
  },
  {
   "cell_type": "code",
   "execution_count": 16,
   "id": "beautiful-phrase",
   "metadata": {},
   "outputs": [],
   "source": [
    "## Read ground truth data\n",
    "train_df = spark.read.format(\"csv\") \\\n",
    "           .option(\"inferSchema\", False) \\\n",
    "           .option(\"header\", True) \\\n",
    "           .option(\"delimiter\", \",\") \\\n",
    "           .load(str(data_folder.joinpath('train.csv')))"
   ]
  },
  {
   "cell_type": "code",
   "execution_count": 17,
   "id": "changed-brave",
   "metadata": {},
   "outputs": [
    {
     "name": "stdout",
     "output_type": "stream",
     "text": [
      "+--------------------+--------+\n",
      "|                msno|is_churn|\n",
      "+--------------------+--------+\n",
      "|waLDQMmcOu2jLDaV1...|       1|\n",
      "|QA7uiXy8vIbUSPOkC...|       1|\n",
      "|fGwBva6hikQmTJzrb...|       1|\n",
      "|mT5V8rEpa+8wuqi6x...|       1|\n",
      "|XaPhtGLk/5UvvOYHc...|       1|\n",
      "+--------------------+--------+\n",
      "only showing top 5 rows\n",
      "\n"
     ]
    }
   ],
   "source": [
    "train_df.show(5)"
   ]
  },
  {
   "cell_type": "markdown",
   "id": "democratic-paragraph",
   "metadata": {},
   "source": [
    "## In transaction data, select only customers in train data"
   ]
  },
  {
   "cell_type": "code",
   "execution_count": 18,
   "id": "manual-gauge",
   "metadata": {},
   "outputs": [],
   "source": [
    "## Step 1: Keep only customer msno present in train data\n",
    "transactions_df = transactions_df.join(train_df.select('msno'), 'msno', 'inner')"
   ]
  },
  {
   "cell_type": "code",
   "execution_count": 19,
   "id": "wrapped-studio",
   "metadata": {},
   "outputs": [],
   "source": [
    "## Step 2: For each msno, keep only the latest transaction\n",
    "transactions_df = transactions_df.withColumn('transaction_date', to_date(transactions_df['transaction_date'], format='yyyyMMdd'))\n",
    "transactions_df = transactions_df.sort(col('transaction_date').desc())\n",
    "transactions_df = transactions_df.dropDuplicates(['msno'])"
   ]
  },
  {
   "cell_type": "code",
   "execution_count": 20,
   "id": "imperial-biodiversity",
   "metadata": {},
   "outputs": [
    {
     "name": "stdout",
     "output_type": "stream",
     "text": [
      "+--------------------+-----------------+-----------------+---------------+------------------+-------------+----------------+----------------------+---------+\n",
      "|                msno|payment_method_id|payment_plan_days|plan_list_price|actual_amount_paid|is_auto_renew|transaction_date|membership_expire_date|is_cancel|\n",
      "+--------------------+-----------------+-----------------+---------------+------------------+-------------+----------------+----------------------+---------+\n",
      "|++4RuqBw0Ss6bQU4o...|               41|               30|            149|               149|            1|      2017-02-13|              20170313|        0|\n",
      "|+/HS8LzrRGXolKbxR...|               40|               30|            149|               149|            1|      2017-02-17|              20170316|        0|\n",
      "|+/namlXq+u3izRjHC...|               34|               30|            149|               149|            1|      2017-02-28|              20170331|        0|\n",
      "|+0/X9tkmyHyet9X80...|               34|               30|            149|               149|            1|      2017-02-28|              20170331|        0|\n",
      "|+09YGn842g6h2EZUX...|               34|               30|            149|               149|            1|      2017-02-28|              20170331|        0|\n",
      "+--------------------+-----------------+-----------------+---------------+------------------+-------------+----------------+----------------------+---------+\n",
      "only showing top 5 rows\n",
      "\n"
     ]
    }
   ],
   "source": [
    "transactions_df.show(5)"
   ]
  },
  {
   "cell_type": "markdown",
   "id": "covered-brunei",
   "metadata": {},
   "source": [
    "## In user logs data, select only customers in train data"
   ]
  },
  {
   "cell_type": "code",
   "execution_count": 21,
   "id": "photographic-verse",
   "metadata": {},
   "outputs": [],
   "source": [
    "## Step 1: Keep only customer msno present in train data \n",
    "user_logs_df = user_logs_df.join(train_df.select('msno'), 'msno', 'inner')"
   ]
  },
  {
   "cell_type": "code",
   "execution_count": 22,
   "id": "respected-diamond",
   "metadata": {},
   "outputs": [],
   "source": [
    "## Step 2: Cast date column to DateType\n",
    "user_logs_df = user_logs_df.withColumn('date', to_date(user_logs_df['date'], format='yyyyMMdd'))"
   ]
  },
  {
   "cell_type": "code",
   "execution_count": 23,
   "id": "absent-commissioner",
   "metadata": {},
   "outputs": [],
   "source": [
    "## Step 3: Since train set contains customer membership date which expires in the month of February, to use last one month's filter df starting from January 30\n",
    "user_logs_df = user_logs_df.filter((user_logs_df['date'] >= (lit('2017-01-30').cast(DateType()))) & (user_logs_df['date'] <= (lit('2017-02-28').cast(DateType()))))"
   ]
  },
  {
   "cell_type": "code",
   "execution_count": 24,
   "id": "ancient-cardiff",
   "metadata": {},
   "outputs": [
    {
     "name": "stdout",
     "output_type": "stream",
     "text": [
      "+--------------------+----------+------+------+------+-------+-------+-------+----------+\n",
      "|                msno|      date|num_25|num_50|num_75|num_985|num_100|num_unq|total_secs|\n",
      "+--------------------+----------+------+------+------+-------+-------+-------+----------+\n",
      "|++4RuqBw0Ss6bQU4o...|2017-02-20|     3|     0|     0|      1|      4|      7| 1368.1910|\n",
      "|+/namlXq+u3izRjHC...|2017-01-31|    21|     2|     2|      0|      7|     32| 2378.9580|\n",
      "|+/namlXq+u3izRjHC...|2017-02-01|     4|     0|     0|      1|      4|      9| 1378.2200|\n",
      "|+/namlXq+u3izRjHC...|2017-02-02|    23|     3|     0|      2|      7|     35| 2599.7370|\n",
      "|+/namlXq+u3izRjHC...|2017-02-03|    13|     0|     0|      0|     27|     40| 7097.6090|\n",
      "+--------------------+----------+------+------+------+-------+-------+-------+----------+\n",
      "only showing top 5 rows\n",
      "\n"
     ]
    }
   ],
   "source": [
    "user_logs_df.show(5)"
   ]
  },
  {
   "cell_type": "markdown",
   "id": "black-perfume",
   "metadata": {},
   "source": [
    "## For members data, subset only records which are present in train set"
   ]
  },
  {
   "cell_type": "code",
   "execution_count": 25,
   "id": "numerous-system",
   "metadata": {},
   "outputs": [],
   "source": [
    "members_df = members_df.join(train_df.select('msno'), 'msno', 'inner')"
   ]
  },
  {
   "cell_type": "code",
   "execution_count": 26,
   "id": "official-income",
   "metadata": {},
   "outputs": [
    {
     "name": "stdout",
     "output_type": "stream",
     "text": [
      "+--------------------+----+---+------+--------------+----------------------+\n",
      "|                msno|city| bd|gender|registered_via|registration_init_time|\n",
      "+--------------------+----+---+------+--------------+----------------------+\n",
      "|++4RuqBw0Ss6bQU4o...|   1|  0|  null|             7|              20140714|\n",
      "|+/namlXq+u3izRjHC...|  15| 31|  male|             9|              20060603|\n",
      "|+0/X9tkmyHyet9X80...|   9| 31|  male|             9|              20040330|\n",
      "|+09YGn842g6h2EZUX...|  15| 29|  male|             9|              20080322|\n",
      "|+0RJtbyhoPAHPa+34...|  13| 29|female|             3|              20120612|\n",
      "+--------------------+----+---+------+--------------+----------------------+\n",
      "only showing top 5 rows\n",
      "\n"
     ]
    }
   ],
   "source": [
    "members_df.show(5)"
   ]
  },
  {
   "cell_type": "markdown",
   "id": "happy-olive",
   "metadata": {},
   "source": [
    "## Next step\n",
    "1. For each user, compute the last 30 day user logs (add a new column for number of times the user has used the service)"
   ]
  },
  {
   "cell_type": "code",
   "execution_count": 35,
   "id": "aging-graduate",
   "metadata": {},
   "outputs": [],
   "source": [
    "## Convert required columns to numeric/float type\n",
    "int_col = [\"num_25\", \"num_50\", \"num_75\", \"num_985\", \"num_100\", \"num_unq\"]\n",
    "float_col = [\"total_secs\"] \n",
    "\n",
    "for col in int_col:\n",
    "    user_logs_df = user_logs_df.withColumn(col, user_logs_df[col].cast(IntegerType()))\n",
    "    \n",
    "for col in float_col:\n",
    "    user_logs_df = user_logs_df.withColumn(col, user_logs_df[col].cast(FloatType()))"
   ]
  },
  {
   "cell_type": "code",
   "execution_count": 37,
   "id": "catholic-juvenile",
   "metadata": {},
   "outputs": [],
   "source": [
    "## Aggregate data\n",
    "user_logs_df = user_logs_df.groupBy(\"msno\") \\\n",
    "               .agg(mean(\"num_25\").alias(\"avg_num_25\"), \\\n",
    "                    mean(\"num_50\").alias(\"avg_num_50\"), \\\n",
    "                    mean(\"num_75\").alias(\"avg_num_75\"), \\\n",
    "                    mean(\"num_985\").alias(\"avg_num_985\"), \\\n",
    "                    mean(\"num_100\").alias(\"avg_num_100\"), \\\n",
    "                    mean(\"num_unq\").alias(\"avg_num_unq\"), \\\n",
    "                    mean(\"total_secs\").alias(\"avg_total_secs\"), \\\n",
    "                    count(\"num_25\").alias(\"number_of_days_used\"))"
   ]
  },
  {
   "cell_type": "code",
   "execution_count": 39,
   "id": "bridal-relations",
   "metadata": {},
   "outputs": [
    {
     "name": "stdout",
     "output_type": "stream",
     "text": [
      "+--------------------------------------------+------------------+------------------+------------------+------------------+------------------+------------------+------------------+-------------------+\n",
      "|msno                                        |avg_num_25        |avg_num_50        |avg_num_75        |avg_num_985       |avg_num_100       |avg_num_unq       |avg_total_secs    |number_of_days_used|\n",
      "+--------------------------------------------+------------------+------------------+------------------+------------------+------------------+------------------+------------------+-------------------+\n",
      "|++4RuqBw0Ss6bQU4oMxaRlbBPoWzoEiIZaxPM04Y4+U=|3.0               |0.0               |0.0               |1.0               |4.0               |7.0               |1368.1910400390625|1                  |\n",
      "|+/namlXq+u3izRjHCFJV4MgqcXcLidZYszVsROOq/y4=|24.846153846153847|1.1923076923076923|1.0769230769230769|1.1538461538461537|27.923076923076923|51.80769230769231 |7806.437842735877 |26                 |\n",
      "|+0/X9tkmyHyet9X80G6GTrDFHnJqvai8d1ZPhayT0os=|9.206896551724139 |1.2758620689655173|0.7931034482758621|2.3793103448275863|49.310344827586206|21.310344827586206|12545.216048142005|29                 |\n",
      "|+09YGn842g6h2EZUXe0VWeC4bBoCbDGfUboitc0vIHw=|2.923076923076923 |0.9230769230769231|0.5769230769230769|0.9615384615384616|32.96153846153846 |26.23076923076923 |8618.03577364408  |26                 |\n",
      "|+0RJtbyhoPAHPa+34MkYcE2Ox0cjMgJOTXMXVBYgkJE=|2.5               |0.75              |0.75              |2.0               |17.5              |19.125            |4738.653106689453 |8                  |\n",
      "+--------------------------------------------+------------------+------------------+------------------+------------------+------------------+------------------+------------------+-------------------+\n",
      "only showing top 5 rows\n",
      "\n"
     ]
    }
   ],
   "source": [
    "user_logs_df.show(5, truncate=False)"
   ]
  },
  {
   "cell_type": "code",
   "execution_count": 40,
   "id": "wooden-conservation",
   "metadata": {},
   "outputs": [
    {
     "data": {
      "text/plain": [
       "767168"
      ]
     },
     "execution_count": 40,
     "metadata": {},
     "output_type": "execute_result"
    }
   ],
   "source": [
    "user_logs_df.count()"
   ]
  },
  {
   "cell_type": "code",
   "execution_count": null,
   "id": "under-review",
   "metadata": {},
   "outputs": [],
   "source": [
    "model_dataset = train_df.join(members_df, 'msno', 'left') \\\n",
    "                .join(transactions_df, 'msno', 'left') \\\n",
    "                .join(user_logs_df, 'msno', 'left')"
   ]
  },
  {
   "cell_type": "code",
   "execution_count": null,
   "id": "corporate-charter",
   "metadata": {},
   "outputs": [],
   "source": []
  }
 ],
 "metadata": {
  "kernelspec": {
   "display_name": "churn_env",
   "language": "python",
   "name": "churn_env"
  },
  "language_info": {
   "codemirror_mode": {
    "name": "ipython",
    "version": 3
   },
   "file_extension": ".py",
   "mimetype": "text/x-python",
   "name": "python",
   "nbconvert_exporter": "python",
   "pygments_lexer": "ipython3",
   "version": "3.8.8"
  }
 },
 "nbformat": 4,
 "nbformat_minor": 5
}
