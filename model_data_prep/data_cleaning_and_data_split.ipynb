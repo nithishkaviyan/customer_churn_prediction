{
 "cells": [
  {
   "cell_type": "code",
   "execution_count": 42,
   "metadata": {},
   "outputs": [],
   "source": [
    "from pathlib import Path\n",
    "import pandas as pd\n",
    "import numpy as np\n",
    "\n",
    "from sklearn.model_selection import train_test_split\n",
    "\n",
    "from sklearn.preprocessing import OrdinalEncoder\n",
    "from sklearn.impute import SimpleImputer\n",
    "from sklearn.pipeline import Pipeline\n",
    "from sklearn.compose import ColumnTransformer"
   ]
  },
  {
   "cell_type": "code",
   "execution_count": 2,
   "metadata": {},
   "outputs": [],
   "source": [
    "data_folder = Path.cwd().parents[0].joinpath('data', 'processed_data')"
   ]
  },
  {
   "cell_type": "code",
   "execution_count": 3,
   "metadata": {},
   "outputs": [
    {
     "data": {
      "text/html": [
       "<div>\n",
       "<style scoped>\n",
       "    .dataframe tbody tr th:only-of-type {\n",
       "        vertical-align: middle;\n",
       "    }\n",
       "\n",
       "    .dataframe tbody tr th {\n",
       "        vertical-align: top;\n",
       "    }\n",
       "\n",
       "    .dataframe thead th {\n",
       "        text-align: right;\n",
       "    }\n",
       "</style>\n",
       "<table border=\"1\" class=\"dataframe\">\n",
       "  <thead>\n",
       "    <tr style=\"text-align: right;\">\n",
       "      <th></th>\n",
       "      <th>msno</th>\n",
       "      <th>is_churn</th>\n",
       "      <th>city</th>\n",
       "      <th>bd</th>\n",
       "      <th>gender</th>\n",
       "      <th>registered_via</th>\n",
       "      <th>registration_init_time</th>\n",
       "      <th>payment_method_id</th>\n",
       "      <th>payment_plan_days</th>\n",
       "      <th>plan_list_price</th>\n",
       "      <th>...</th>\n",
       "      <th>avg_num_75</th>\n",
       "      <th>avg_num_985</th>\n",
       "      <th>avg_num_100</th>\n",
       "      <th>avg_num_unq</th>\n",
       "      <th>avg_total_secs</th>\n",
       "      <th>number_of_days_used</th>\n",
       "      <th>price_discount</th>\n",
       "      <th>is_discount</th>\n",
       "      <th>cut_off_date</th>\n",
       "      <th>num_days_as_member</th>\n",
       "    </tr>\n",
       "  </thead>\n",
       "  <tbody>\n",
       "    <tr>\n",
       "      <th>0</th>\n",
       "      <td>++4RuqBw0Ss6bQU4oMxaRlbBPoWzoEiIZaxPM04Y4+U=</td>\n",
       "      <td>0</td>\n",
       "      <td>1.0</td>\n",
       "      <td>0.0</td>\n",
       "      <td>NaN</td>\n",
       "      <td>7.0</td>\n",
       "      <td>2014-07-14</td>\n",
       "      <td>41</td>\n",
       "      <td>30</td>\n",
       "      <td>149</td>\n",
       "      <td>...</td>\n",
       "      <td>0.000000</td>\n",
       "      <td>1.000000</td>\n",
       "      <td>4.000000</td>\n",
       "      <td>7.000000</td>\n",
       "      <td>1368.191040</td>\n",
       "      <td>1.0</td>\n",
       "      <td>0</td>\n",
       "      <td>0</td>\n",
       "      <td>2017-02-28</td>\n",
       "      <td>960.0</td>\n",
       "    </tr>\n",
       "    <tr>\n",
       "      <th>1</th>\n",
       "      <td>+/HS8LzrRGXolKbxRzDLqrmwuXqPOYixBIPXkyNcKNI=</td>\n",
       "      <td>0</td>\n",
       "      <td>NaN</td>\n",
       "      <td>NaN</td>\n",
       "      <td>NaN</td>\n",
       "      <td>NaN</td>\n",
       "      <td>NaN</td>\n",
       "      <td>40</td>\n",
       "      <td>30</td>\n",
       "      <td>149</td>\n",
       "      <td>...</td>\n",
       "      <td>NaN</td>\n",
       "      <td>NaN</td>\n",
       "      <td>NaN</td>\n",
       "      <td>NaN</td>\n",
       "      <td>NaN</td>\n",
       "      <td>NaN</td>\n",
       "      <td>0</td>\n",
       "      <td>0</td>\n",
       "      <td>2017-02-28</td>\n",
       "      <td>NaN</td>\n",
       "    </tr>\n",
       "    <tr>\n",
       "      <th>2</th>\n",
       "      <td>+/namlXq+u3izRjHCFJV4MgqcXcLidZYszVsROOq/y4=</td>\n",
       "      <td>0</td>\n",
       "      <td>15.0</td>\n",
       "      <td>31.0</td>\n",
       "      <td>male</td>\n",
       "      <td>9.0</td>\n",
       "      <td>2006-06-03</td>\n",
       "      <td>34</td>\n",
       "      <td>30</td>\n",
       "      <td>149</td>\n",
       "      <td>...</td>\n",
       "      <td>1.076923</td>\n",
       "      <td>1.153846</td>\n",
       "      <td>27.923077</td>\n",
       "      <td>51.807692</td>\n",
       "      <td>7806.437843</td>\n",
       "      <td>26.0</td>\n",
       "      <td>0</td>\n",
       "      <td>0</td>\n",
       "      <td>2017-02-28</td>\n",
       "      <td>3923.0</td>\n",
       "    </tr>\n",
       "    <tr>\n",
       "      <th>3</th>\n",
       "      <td>+0/X9tkmyHyet9X80G6GTrDFHnJqvai8d1ZPhayT0os=</td>\n",
       "      <td>0</td>\n",
       "      <td>9.0</td>\n",
       "      <td>31.0</td>\n",
       "      <td>male</td>\n",
       "      <td>9.0</td>\n",
       "      <td>2004-03-30</td>\n",
       "      <td>34</td>\n",
       "      <td>30</td>\n",
       "      <td>149</td>\n",
       "      <td>...</td>\n",
       "      <td>0.793103</td>\n",
       "      <td>2.379310</td>\n",
       "      <td>49.310345</td>\n",
       "      <td>21.310345</td>\n",
       "      <td>12545.216048</td>\n",
       "      <td>29.0</td>\n",
       "      <td>0</td>\n",
       "      <td>0</td>\n",
       "      <td>2017-02-28</td>\n",
       "      <td>4718.0</td>\n",
       "    </tr>\n",
       "    <tr>\n",
       "      <th>4</th>\n",
       "      <td>+09YGn842g6h2EZUXe0VWeC4bBoCbDGfUboitc0vIHw=</td>\n",
       "      <td>0</td>\n",
       "      <td>15.0</td>\n",
       "      <td>29.0</td>\n",
       "      <td>male</td>\n",
       "      <td>9.0</td>\n",
       "      <td>2008-03-22</td>\n",
       "      <td>34</td>\n",
       "      <td>30</td>\n",
       "      <td>149</td>\n",
       "      <td>...</td>\n",
       "      <td>0.576923</td>\n",
       "      <td>0.961538</td>\n",
       "      <td>32.961538</td>\n",
       "      <td>26.230769</td>\n",
       "      <td>8618.035774</td>\n",
       "      <td>26.0</td>\n",
       "      <td>0</td>\n",
       "      <td>0</td>\n",
       "      <td>2017-02-28</td>\n",
       "      <td>3265.0</td>\n",
       "    </tr>\n",
       "  </tbody>\n",
       "</table>\n",
       "<p>5 rows × 27 columns</p>\n",
       "</div>"
      ],
      "text/plain": [
       "                                           msno  is_churn  city    bd gender  \\\n",
       "0  ++4RuqBw0Ss6bQU4oMxaRlbBPoWzoEiIZaxPM04Y4+U=         0   1.0   0.0    NaN   \n",
       "1  +/HS8LzrRGXolKbxRzDLqrmwuXqPOYixBIPXkyNcKNI=         0   NaN   NaN    NaN   \n",
       "2  +/namlXq+u3izRjHCFJV4MgqcXcLidZYszVsROOq/y4=         0  15.0  31.0   male   \n",
       "3  +0/X9tkmyHyet9X80G6GTrDFHnJqvai8d1ZPhayT0os=         0   9.0  31.0   male   \n",
       "4  +09YGn842g6h2EZUXe0VWeC4bBoCbDGfUboitc0vIHw=         0  15.0  29.0   male   \n",
       "\n",
       "   registered_via registration_init_time  payment_method_id  \\\n",
       "0             7.0             2014-07-14                 41   \n",
       "1             NaN                    NaN                 40   \n",
       "2             9.0             2006-06-03                 34   \n",
       "3             9.0             2004-03-30                 34   \n",
       "4             9.0             2008-03-22                 34   \n",
       "\n",
       "   payment_plan_days  plan_list_price  ...  avg_num_75  avg_num_985  \\\n",
       "0                 30              149  ...    0.000000     1.000000   \n",
       "1                 30              149  ...         NaN          NaN   \n",
       "2                 30              149  ...    1.076923     1.153846   \n",
       "3                 30              149  ...    0.793103     2.379310   \n",
       "4                 30              149  ...    0.576923     0.961538   \n",
       "\n",
       "  avg_num_100 avg_num_unq  avg_total_secs  number_of_days_used  \\\n",
       "0    4.000000    7.000000     1368.191040                  1.0   \n",
       "1         NaN         NaN             NaN                  NaN   \n",
       "2   27.923077   51.807692     7806.437843                 26.0   \n",
       "3   49.310345   21.310345    12545.216048                 29.0   \n",
       "4   32.961538   26.230769     8618.035774                 26.0   \n",
       "\n",
       "   price_discount  is_discount  cut_off_date  num_days_as_member  \n",
       "0               0            0    2017-02-28               960.0  \n",
       "1               0            0    2017-02-28                 NaN  \n",
       "2               0            0    2017-02-28              3923.0  \n",
       "3               0            0    2017-02-28              4718.0  \n",
       "4               0            0    2017-02-28              3265.0  \n",
       "\n",
       "[5 rows x 27 columns]"
      ]
     },
     "execution_count": 3,
     "metadata": {},
     "output_type": "execute_result"
    }
   ],
   "source": [
    "# Read model dataset\n",
    "model_data_df = pd.read_csv(data_folder.joinpath('model_dataset_with_feature_engg.csv'))\n",
    "model_data_df.head()"
   ]
  },
  {
   "cell_type": "code",
   "execution_count": 4,
   "metadata": {},
   "outputs": [
    {
     "data": {
      "text/plain": [
       "msno                       object\n",
       "is_churn                    int64\n",
       "city                      float64\n",
       "bd                        float64\n",
       "gender                     object\n",
       "registered_via            float64\n",
       "registration_init_time     object\n",
       "payment_method_id           int64\n",
       "payment_plan_days           int64\n",
       "plan_list_price             int64\n",
       "actual_amount_paid          int64\n",
       "is_auto_renew               int64\n",
       "transaction_date           object\n",
       "membership_expire_date     object\n",
       "is_cancel                   int64\n",
       "avg_num_25                float64\n",
       "avg_num_50                float64\n",
       "avg_num_75                float64\n",
       "avg_num_985               float64\n",
       "avg_num_100               float64\n",
       "avg_num_unq               float64\n",
       "avg_total_secs            float64\n",
       "number_of_days_used       float64\n",
       "price_discount              int64\n",
       "is_discount                 int64\n",
       "cut_off_date               object\n",
       "num_days_as_member        float64\n",
       "dtype: object"
      ]
     },
     "execution_count": 4,
     "metadata": {},
     "output_type": "execute_result"
    }
   ],
   "source": [
    "model_data_df.dtypes"
   ]
  },
  {
   "cell_type": "code",
   "execution_count": 5,
   "metadata": {},
   "outputs": [
    {
     "data": {
      "text/plain": [
       "msno                       0.000000\n",
       "is_churn                   0.000000\n",
       "city                      11.659420\n",
       "bd                        11.659420\n",
       "gender                    60.551942\n",
       "registered_via            11.659420\n",
       "registration_init_time    11.659420\n",
       "payment_method_id          0.000000\n",
       "payment_plan_days          0.000000\n",
       "plan_list_price            0.000000\n",
       "actual_amount_paid         0.000000\n",
       "is_auto_renew              0.000000\n",
       "transaction_date           0.000000\n",
       "membership_expire_date     0.000000\n",
       "is_cancel                  0.000000\n",
       "avg_num_25                22.737028\n",
       "avg_num_50                22.737028\n",
       "avg_num_75                22.737028\n",
       "avg_num_985               22.737028\n",
       "avg_num_100               22.737028\n",
       "avg_num_unq               22.737028\n",
       "avg_total_secs            22.737028\n",
       "number_of_days_used       22.737028\n",
       "price_discount             0.000000\n",
       "is_discount                0.000000\n",
       "cut_off_date               0.000000\n",
       "num_days_as_member        11.659420\n",
       "dtype: float64"
      ]
     },
     "execution_count": 5,
     "metadata": {},
     "output_type": "execute_result"
    }
   ],
   "source": [
    "model_data_df.isna().mean() * 100"
   ]
  },
  {
   "cell_type": "markdown",
   "metadata": {},
   "source": [
    "## Data cleaning"
   ]
  },
  {
   "cell_type": "markdown",
   "metadata": {},
   "source": [
    "### bd feature"
   ]
  },
  {
   "cell_type": "code",
   "execution_count": 14,
   "metadata": {},
   "outputs": [],
   "source": [
    "# Convert all negative values to positive values\n",
    "model_data_df.loc[:, 'bd'] = abs(model_data_df['bd']) "
   ]
  },
  {
   "cell_type": "code",
   "execution_count": 20,
   "metadata": {},
   "outputs": [
    {
     "data": {
      "text/plain": [
       "count    877161.000000\n",
       "mean         13.475045\n",
       "std          20.212833\n",
       "min           0.000000\n",
       "25%           0.000000\n",
       "50%           0.000000\n",
       "75%          27.000000\n",
       "max        3152.000000\n",
       "Name: bd, dtype: float64"
      ]
     },
     "execution_count": 20,
     "metadata": {},
     "output_type": "execute_result"
    }
   ],
   "source": [
    "model_data_df['bd'].describe()"
   ]
  },
  {
   "cell_type": "code",
   "execution_count": 25,
   "metadata": {},
   "outputs": [],
   "source": [
    "# Make all bd records > 75 to 75\n",
    "model_data_df.loc[model_data_df['bd'] > 75, 'bd'] = 75"
   ]
  },
  {
   "cell_type": "markdown",
   "metadata": {},
   "source": [
    "# Train-test split"
   ]
  },
  {
   "cell_type": "code",
   "execution_count": 27,
   "metadata": {},
   "outputs": [],
   "source": [
    "train_df, val_df = train_test_split(model_data_df, test_size=0.2, random_state=10)"
   ]
  },
  {
   "cell_type": "code",
   "execution_count": 28,
   "metadata": {},
   "outputs": [
    {
     "data": {
      "text/plain": [
       "msno                       object\n",
       "is_churn                    int64\n",
       "city                      float64\n",
       "bd                        float64\n",
       "gender                     object\n",
       "registered_via            float64\n",
       "registration_init_time     object\n",
       "payment_method_id           int64\n",
       "payment_plan_days           int64\n",
       "plan_list_price             int64\n",
       "actual_amount_paid          int64\n",
       "is_auto_renew               int64\n",
       "transaction_date           object\n",
       "membership_expire_date     object\n",
       "is_cancel                   int64\n",
       "avg_num_25                float64\n",
       "avg_num_50                float64\n",
       "avg_num_75                float64\n",
       "avg_num_985               float64\n",
       "avg_num_100               float64\n",
       "avg_num_unq               float64\n",
       "avg_total_secs            float64\n",
       "number_of_days_used       float64\n",
       "price_discount              int64\n",
       "is_discount                 int64\n",
       "cut_off_date               object\n",
       "num_days_as_member        float64\n",
       "dtype: object"
      ]
     },
     "execution_count": 28,
     "metadata": {},
     "output_type": "execute_result"
    }
   ],
   "source": [
    "model_data_df.dtypes"
   ]
  },
  {
   "cell_type": "markdown",
   "metadata": {},
   "source": [
    "## Data imputation"
   ]
  },
  {
   "cell_type": "code",
   "execution_count": 31,
   "metadata": {},
   "outputs": [],
   "source": [
    "## Numeric features imputer\n",
    "numeric_feature_imputer = SimpleImputer(strategy='median')\n",
    "numeric_columns = ['plan_list_price', 'actual_amount_paid', 'bd', 'avg_num_25', 'avg_num_50', \n",
    "                   'avg_num_75', 'avg_num_985', 'avg_num_100', 'avg_num_unq', 'avg_total_secs', \n",
    "                   'number_of_days_used', 'price_discount', 'num_days_as_member']\n",
    "\n",
    "## Categorical features imputer\n",
    "categorical_feature_imputer = SimpleImputer(strategy='most_frequent')\n",
    "categorical_columns = ['payment_method_id', 'payment_plan_days', 'is_auto_renew', 'is_cancel', \n",
    "                       'city', 'registered_via', 'is_discount']\n",
    "\n",
    "## Constant imputer\n",
    "constant_imputer = SimpleImputer(strategy='constant', fill_value='not_specified')\n",
    "constant_impute_column = ['gender']\n",
    "constant_imputer_pipeline = Pipeline([('imputer', constant_imputer), ('label_encoder', OrdinalEncoder())])\n",
    "\n",
    "## Combine all the imputation transformers with Column Transformer\n",
    "column_transformer = ColumnTransformer(transformers=[('numeric_imputer', numeric_feature_imputer, numeric_columns),\n",
    "                                                     ('categorical_imputer', categorical_feature_imputer, categorical_columns),\n",
    "                                                     ('constant_imputer', constant_imputer_pipeline, constant_impute_column)])\n",
    "\n",
    "## Final pipeline with scaling\n",
    "pipeline = Pipeline([('imputation_step', column_transformer)])"
   ]
  },
  {
   "cell_type": "code",
   "execution_count": 35,
   "metadata": {},
   "outputs": [
    {
     "data": {
      "text/plain": [
       "Pipeline(steps=[('imputation_step',\n",
       "                 ColumnTransformer(transformers=[('numeric_imputer',\n",
       "                                                  SimpleImputer(strategy='median'),\n",
       "                                                  ['plan_list_price',\n",
       "                                                   'actual_amount_paid', 'bd',\n",
       "                                                   'avg_num_25', 'avg_num_50',\n",
       "                                                   'avg_num_75', 'avg_num_985',\n",
       "                                                   'avg_num_100', 'avg_num_unq',\n",
       "                                                   'avg_total_secs',\n",
       "                                                   'number_of_days_used',\n",
       "                                                   'price_discount',\n",
       "                                                   'num_days_as_member']),\n",
       "                                                 ('categorical_imputer',\n",
       "                                                  SimpleImputer(strategy='most_frequent'),\n",
       "                                                  ['payment_method_id',\n",
       "                                                   'payment_plan_days',\n",
       "                                                   'is_auto_renew', 'is_cancel',\n",
       "                                                   'city', 'registered_via',\n",
       "                                                   'is_discount']),\n",
       "                                                 ('constant_imputer',\n",
       "                                                  Pipeline(steps=[('imputer',\n",
       "                                                                   SimpleImputer(fill_value='not_specified',\n",
       "                                                                                 strategy='constant')),\n",
       "                                                                  ('label_encoder',\n",
       "                                                                   OrdinalEncoder())]),\n",
       "                                                  ['gender'])]))])"
      ]
     },
     "execution_count": 35,
     "metadata": {},
     "output_type": "execute_result"
    }
   ],
   "source": [
    "# Fit data imputation pipeline\n",
    "pipeline.fit(train_df)"
   ]
  },
  {
   "cell_type": "code",
   "execution_count": 40,
   "metadata": {},
   "outputs": [],
   "source": [
    "# Create train and val data\n",
    "x_train, y_train = pipeline.transform(train_df), train_df['is_churn'].values\n",
    "x_val, y_val = pipeline.transform(val_df), val_df['is_churn'].values"
   ]
  },
  {
   "cell_type": "code",
   "execution_count": 44,
   "metadata": {},
   "outputs": [],
   "source": [
    "# Save all the numpy arrays\n",
    "np.save(data_folder.joinpath('x_train.npy'), x_train)\n",
    "np.save(data_folder.joinpath('y_train.npy'), y_train)\n",
    "\n",
    "np.save(data_folder.joinpath('x_val.npy'), x_val)\n",
    "np.save(data_folder.joinpath('y_val.npy'), y_val)"
   ]
  }
 ],
 "metadata": {
  "kernelspec": {
   "display_name": "churn_env",
   "language": "python",
   "name": "churn_env"
  },
  "language_info": {
   "codemirror_mode": {
    "name": "ipython",
    "version": 3
   },
   "file_extension": ".py",
   "mimetype": "text/x-python",
   "name": "python",
   "nbconvert_exporter": "python",
   "pygments_lexer": "ipython3",
   "version": "3.8.8"
  }
 },
 "nbformat": 4,
 "nbformat_minor": 4
}
